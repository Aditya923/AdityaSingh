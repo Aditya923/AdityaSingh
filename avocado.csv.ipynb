{
 "cells": [
  {
   "cell_type": "code",
   "execution_count": 1,
   "metadata": {},
   "outputs": [],
   "source": [
    "import pandas as pd \n",
    "import numpy as np\n",
    "import matplotlib.pyplot as plt\n",
    "import seaborn as sns\n",
    "import warnings\n",
    "warnings.filterwarnings('ignore')"
   ]
  },
  {
   "cell_type": "code",
   "execution_count": 2,
   "metadata": {},
   "outputs": [],
   "source": [
    "df=pd.read_csv('avocado.csv')"
   ]
  },
  {
   "cell_type": "code",
   "execution_count": 3,
   "metadata": {},
   "outputs": [
    {
     "data": {
      "text/html": [
       "<div>\n",
       "<style scoped>\n",
       "    .dataframe tbody tr th:only-of-type {\n",
       "        vertical-align: middle;\n",
       "    }\n",
       "\n",
       "    .dataframe tbody tr th {\n",
       "        vertical-align: top;\n",
       "    }\n",
       "\n",
       "    .dataframe thead th {\n",
       "        text-align: right;\n",
       "    }\n",
       "</style>\n",
       "<table border=\"1\" class=\"dataframe\">\n",
       "  <thead>\n",
       "    <tr style=\"text-align: right;\">\n",
       "      <th></th>\n",
       "      <th>Unnamed: 0</th>\n",
       "      <th>Date</th>\n",
       "      <th>AveragePrice</th>\n",
       "      <th>Total Volume</th>\n",
       "      <th>4046</th>\n",
       "      <th>4225</th>\n",
       "      <th>4770</th>\n",
       "      <th>Total Bags</th>\n",
       "      <th>Small Bags</th>\n",
       "      <th>Large Bags</th>\n",
       "      <th>XLarge Bags</th>\n",
       "      <th>type</th>\n",
       "      <th>year</th>\n",
       "      <th>region</th>\n",
       "    </tr>\n",
       "  </thead>\n",
       "  <tbody>\n",
       "    <tr>\n",
       "      <th>0</th>\n",
       "      <td>0</td>\n",
       "      <td>27-12-2015</td>\n",
       "      <td>1.33</td>\n",
       "      <td>64236.62</td>\n",
       "      <td>1036.74</td>\n",
       "      <td>54454.85</td>\n",
       "      <td>48.16</td>\n",
       "      <td>8696.87</td>\n",
       "      <td>8603.62</td>\n",
       "      <td>93.25</td>\n",
       "      <td>0.0</td>\n",
       "      <td>conventional</td>\n",
       "      <td>2015</td>\n",
       "      <td>Albany</td>\n",
       "    </tr>\n",
       "    <tr>\n",
       "      <th>1</th>\n",
       "      <td>1</td>\n",
       "      <td>20-12-2015</td>\n",
       "      <td>1.35</td>\n",
       "      <td>54876.98</td>\n",
       "      <td>674.28</td>\n",
       "      <td>44638.81</td>\n",
       "      <td>58.33</td>\n",
       "      <td>9505.56</td>\n",
       "      <td>9408.07</td>\n",
       "      <td>97.49</td>\n",
       "      <td>0.0</td>\n",
       "      <td>conventional</td>\n",
       "      <td>2015</td>\n",
       "      <td>Albany</td>\n",
       "    </tr>\n",
       "    <tr>\n",
       "      <th>2</th>\n",
       "      <td>2</td>\n",
       "      <td>13-12-2015</td>\n",
       "      <td>0.93</td>\n",
       "      <td>118220.22</td>\n",
       "      <td>794.70</td>\n",
       "      <td>109149.67</td>\n",
       "      <td>130.50</td>\n",
       "      <td>8145.35</td>\n",
       "      <td>8042.21</td>\n",
       "      <td>103.14</td>\n",
       "      <td>0.0</td>\n",
       "      <td>conventional</td>\n",
       "      <td>2015</td>\n",
       "      <td>Albany</td>\n",
       "    </tr>\n",
       "    <tr>\n",
       "      <th>3</th>\n",
       "      <td>3</td>\n",
       "      <td>06-12-2015</td>\n",
       "      <td>1.08</td>\n",
       "      <td>78992.15</td>\n",
       "      <td>1132.00</td>\n",
       "      <td>71976.41</td>\n",
       "      <td>72.58</td>\n",
       "      <td>5811.16</td>\n",
       "      <td>5677.40</td>\n",
       "      <td>133.76</td>\n",
       "      <td>0.0</td>\n",
       "      <td>conventional</td>\n",
       "      <td>2015</td>\n",
       "      <td>Albany</td>\n",
       "    </tr>\n",
       "    <tr>\n",
       "      <th>4</th>\n",
       "      <td>4</td>\n",
       "      <td>29-11-2015</td>\n",
       "      <td>1.28</td>\n",
       "      <td>51039.60</td>\n",
       "      <td>941.48</td>\n",
       "      <td>43838.39</td>\n",
       "      <td>75.78</td>\n",
       "      <td>6183.95</td>\n",
       "      <td>5986.26</td>\n",
       "      <td>197.69</td>\n",
       "      <td>0.0</td>\n",
       "      <td>conventional</td>\n",
       "      <td>2015</td>\n",
       "      <td>Albany</td>\n",
       "    </tr>\n",
       "  </tbody>\n",
       "</table>\n",
       "</div>"
      ],
      "text/plain": [
       "   Unnamed: 0        Date  AveragePrice  Total Volume     4046       4225  \\\n",
       "0           0  27-12-2015          1.33      64236.62  1036.74   54454.85   \n",
       "1           1  20-12-2015          1.35      54876.98   674.28   44638.81   \n",
       "2           2  13-12-2015          0.93     118220.22   794.70  109149.67   \n",
       "3           3  06-12-2015          1.08      78992.15  1132.00   71976.41   \n",
       "4           4  29-11-2015          1.28      51039.60   941.48   43838.39   \n",
       "\n",
       "     4770  Total Bags  Small Bags  Large Bags  XLarge Bags          type  \\\n",
       "0   48.16     8696.87     8603.62       93.25          0.0  conventional   \n",
       "1   58.33     9505.56     9408.07       97.49          0.0  conventional   \n",
       "2  130.50     8145.35     8042.21      103.14          0.0  conventional   \n",
       "3   72.58     5811.16     5677.40      133.76          0.0  conventional   \n",
       "4   75.78     6183.95     5986.26      197.69          0.0  conventional   \n",
       "\n",
       "   year  region  \n",
       "0  2015  Albany  \n",
       "1  2015  Albany  \n",
       "2  2015  Albany  \n",
       "3  2015  Albany  \n",
       "4  2015  Albany  "
      ]
     },
     "execution_count": 3,
     "metadata": {},
     "output_type": "execute_result"
    }
   ],
   "source": [
    "df.head()"
   ]
  },
  {
   "cell_type": "markdown",
   "metadata": {},
   "source": [
    "As in this dataset most of the column are float in nature type and region are categorical data"
   ]
  },
  {
   "cell_type": "code",
   "execution_count": 4,
   "metadata": {},
   "outputs": [
    {
     "data": {
      "text/plain": [
       "(1517, 14)"
      ]
     },
     "execution_count": 4,
     "metadata": {},
     "output_type": "execute_result"
    }
   ],
   "source": [
    "df.shape"
   ]
  },
  {
   "cell_type": "markdown",
   "metadata": {},
   "source": [
    "There are 1517 rows and 14 columns in the dataset"
   ]
  },
  {
   "cell_type": "code",
   "execution_count": 5,
   "metadata": {},
   "outputs": [
    {
     "data": {
      "text/plain": [
       "Unnamed: 0        int64\n",
       "Date             object\n",
       "AveragePrice    float64\n",
       "Total Volume    float64\n",
       "4046            float64\n",
       "4225            float64\n",
       "4770            float64\n",
       "Total Bags      float64\n",
       "Small Bags      float64\n",
       "Large Bags      float64\n",
       "XLarge Bags     float64\n",
       "type             object\n",
       "year              int64\n",
       "region           object\n",
       "dtype: object"
      ]
     },
     "execution_count": 5,
     "metadata": {},
     "output_type": "execute_result"
    }
   ],
   "source": [
    "df.dtypes"
   ]
  },
  {
   "cell_type": "markdown",
   "metadata": {},
   "source": [
    "Most of the data type are float type Date,type and region is of object data type"
   ]
  },
  {
   "cell_type": "code",
   "execution_count": 6,
   "metadata": {},
   "outputs": [
    {
     "data": {
      "text/plain": [
       "Index(['Unnamed: 0', 'Date', 'AveragePrice', 'Total Volume', '4046', '4225',\n",
       "       '4770', 'Total Bags', 'Small Bags', 'Large Bags', 'XLarge Bags', 'type',\n",
       "       'year', 'region'],\n",
       "      dtype='object')"
      ]
     },
     "execution_count": 6,
     "metadata": {},
     "output_type": "execute_result"
    }
   ],
   "source": [
    "df.columns"
   ]
  },
  {
   "cell_type": "code",
   "execution_count": 7,
   "metadata": {},
   "outputs": [],
   "source": [
    "df.drop('Unnamed: 0',inplace=True,axis=1)"
   ]
  },
  {
   "cell_type": "code",
   "execution_count": 8,
   "metadata": {},
   "outputs": [],
   "source": [
    "df.drop('Date',inplace=True,axis=1)"
   ]
  },
  {
   "cell_type": "code",
   "execution_count": 9,
   "metadata": {},
   "outputs": [],
   "source": [
    "df.drop('region',axis=1,inplace=True)"
   ]
  },
  {
   "cell_type": "code",
   "execution_count": 10,
   "metadata": {},
   "outputs": [],
   "source": [
    "df.drop('type',axis=1,inplace=True)"
   ]
  },
  {
   "cell_type": "code",
   "execution_count": 11,
   "metadata": {},
   "outputs": [
    {
     "data": {
      "text/html": [
       "<div>\n",
       "<style scoped>\n",
       "    .dataframe tbody tr th:only-of-type {\n",
       "        vertical-align: middle;\n",
       "    }\n",
       "\n",
       "    .dataframe tbody tr th {\n",
       "        vertical-align: top;\n",
       "    }\n",
       "\n",
       "    .dataframe thead th {\n",
       "        text-align: right;\n",
       "    }\n",
       "</style>\n",
       "<table border=\"1\" class=\"dataframe\">\n",
       "  <thead>\n",
       "    <tr style=\"text-align: right;\">\n",
       "      <th></th>\n",
       "      <th>AveragePrice</th>\n",
       "      <th>Total Volume</th>\n",
       "      <th>4046</th>\n",
       "      <th>4225</th>\n",
       "      <th>4770</th>\n",
       "      <th>Total Bags</th>\n",
       "      <th>Small Bags</th>\n",
       "      <th>Large Bags</th>\n",
       "      <th>XLarge Bags</th>\n",
       "      <th>year</th>\n",
       "    </tr>\n",
       "  </thead>\n",
       "  <tbody>\n",
       "    <tr>\n",
       "      <th>0</th>\n",
       "      <td>1.33</td>\n",
       "      <td>64236.62</td>\n",
       "      <td>1036.74</td>\n",
       "      <td>54454.85</td>\n",
       "      <td>48.16</td>\n",
       "      <td>8696.87</td>\n",
       "      <td>8603.62</td>\n",
       "      <td>93.25</td>\n",
       "      <td>0.00</td>\n",
       "      <td>2015</td>\n",
       "    </tr>\n",
       "    <tr>\n",
       "      <th>1</th>\n",
       "      <td>1.35</td>\n",
       "      <td>54876.98</td>\n",
       "      <td>674.28</td>\n",
       "      <td>44638.81</td>\n",
       "      <td>58.33</td>\n",
       "      <td>9505.56</td>\n",
       "      <td>9408.07</td>\n",
       "      <td>97.49</td>\n",
       "      <td>0.00</td>\n",
       "      <td>2015</td>\n",
       "    </tr>\n",
       "    <tr>\n",
       "      <th>2</th>\n",
       "      <td>0.93</td>\n",
       "      <td>118220.22</td>\n",
       "      <td>794.70</td>\n",
       "      <td>109149.67</td>\n",
       "      <td>130.50</td>\n",
       "      <td>8145.35</td>\n",
       "      <td>8042.21</td>\n",
       "      <td>103.14</td>\n",
       "      <td>0.00</td>\n",
       "      <td>2015</td>\n",
       "    </tr>\n",
       "    <tr>\n",
       "      <th>3</th>\n",
       "      <td>1.08</td>\n",
       "      <td>78992.15</td>\n",
       "      <td>1132.00</td>\n",
       "      <td>71976.41</td>\n",
       "      <td>72.58</td>\n",
       "      <td>5811.16</td>\n",
       "      <td>5677.40</td>\n",
       "      <td>133.76</td>\n",
       "      <td>0.00</td>\n",
       "      <td>2015</td>\n",
       "    </tr>\n",
       "    <tr>\n",
       "      <th>4</th>\n",
       "      <td>1.28</td>\n",
       "      <td>51039.60</td>\n",
       "      <td>941.48</td>\n",
       "      <td>43838.39</td>\n",
       "      <td>75.78</td>\n",
       "      <td>6183.95</td>\n",
       "      <td>5986.26</td>\n",
       "      <td>197.69</td>\n",
       "      <td>0.00</td>\n",
       "      <td>2015</td>\n",
       "    </tr>\n",
       "    <tr>\n",
       "      <th>...</th>\n",
       "      <td>...</td>\n",
       "      <td>...</td>\n",
       "      <td>...</td>\n",
       "      <td>...</td>\n",
       "      <td>...</td>\n",
       "      <td>...</td>\n",
       "      <td>...</td>\n",
       "      <td>...</td>\n",
       "      <td>...</td>\n",
       "      <td>...</td>\n",
       "    </tr>\n",
       "    <tr>\n",
       "      <th>1512</th>\n",
       "      <td>1.39</td>\n",
       "      <td>190846.01</td>\n",
       "      <td>57529.11</td>\n",
       "      <td>56366.66</td>\n",
       "      <td>17531.78</td>\n",
       "      <td>59418.46</td>\n",
       "      <td>48823.53</td>\n",
       "      <td>10354.65</td>\n",
       "      <td>240.28</td>\n",
       "      <td>2016</td>\n",
       "    </tr>\n",
       "    <tr>\n",
       "      <th>1513</th>\n",
       "      <td>1.51</td>\n",
       "      <td>178235.75</td>\n",
       "      <td>43325.87</td>\n",
       "      <td>52189.61</td>\n",
       "      <td>19419.57</td>\n",
       "      <td>63300.70</td>\n",
       "      <td>54704.14</td>\n",
       "      <td>8596.56</td>\n",
       "      <td>0.00</td>\n",
       "      <td>2016</td>\n",
       "    </tr>\n",
       "    <tr>\n",
       "      <th>1514</th>\n",
       "      <td>1.48</td>\n",
       "      <td>178410.82</td>\n",
       "      <td>46364.75</td>\n",
       "      <td>52893.38</td>\n",
       "      <td>16736.92</td>\n",
       "      <td>62415.77</td>\n",
       "      <td>53332.61</td>\n",
       "      <td>8258.16</td>\n",
       "      <td>825.00</td>\n",
       "      <td>2016</td>\n",
       "    </tr>\n",
       "    <tr>\n",
       "      <th>1515</th>\n",
       "      <td>1.47</td>\n",
       "      <td>189131.52</td>\n",
       "      <td>54110.79</td>\n",
       "      <td>53593.58</td>\n",
       "      <td>17495.42</td>\n",
       "      <td>63931.73</td>\n",
       "      <td>55653.47</td>\n",
       "      <td>8278.26</td>\n",
       "      <td>0.00</td>\n",
       "      <td>2016</td>\n",
       "    </tr>\n",
       "    <tr>\n",
       "      <th>1516</th>\n",
       "      <td>1.43</td>\n",
       "      <td>182978.30</td>\n",
       "      <td>43116.41</td>\n",
       "      <td>54193.42</td>\n",
       "      <td>16563.91</td>\n",
       "      <td>69104.56</td>\n",
       "      <td>57456.21</td>\n",
       "      <td>11648.35</td>\n",
       "      <td>0.00</td>\n",
       "      <td>2016</td>\n",
       "    </tr>\n",
       "  </tbody>\n",
       "</table>\n",
       "<p>1517 rows × 10 columns</p>\n",
       "</div>"
      ],
      "text/plain": [
       "      AveragePrice  Total Volume      4046       4225      4770  Total Bags  \\\n",
       "0             1.33      64236.62   1036.74   54454.85     48.16     8696.87   \n",
       "1             1.35      54876.98    674.28   44638.81     58.33     9505.56   \n",
       "2             0.93     118220.22    794.70  109149.67    130.50     8145.35   \n",
       "3             1.08      78992.15   1132.00   71976.41     72.58     5811.16   \n",
       "4             1.28      51039.60    941.48   43838.39     75.78     6183.95   \n",
       "...            ...           ...       ...        ...       ...         ...   \n",
       "1512          1.39     190846.01  57529.11   56366.66  17531.78    59418.46   \n",
       "1513          1.51     178235.75  43325.87   52189.61  19419.57    63300.70   \n",
       "1514          1.48     178410.82  46364.75   52893.38  16736.92    62415.77   \n",
       "1515          1.47     189131.52  54110.79   53593.58  17495.42    63931.73   \n",
       "1516          1.43     182978.30  43116.41   54193.42  16563.91    69104.56   \n",
       "\n",
       "      Small Bags  Large Bags  XLarge Bags  year  \n",
       "0        8603.62       93.25         0.00  2015  \n",
       "1        9408.07       97.49         0.00  2015  \n",
       "2        8042.21      103.14         0.00  2015  \n",
       "3        5677.40      133.76         0.00  2015  \n",
       "4        5986.26      197.69         0.00  2015  \n",
       "...          ...         ...          ...   ...  \n",
       "1512    48823.53    10354.65       240.28  2016  \n",
       "1513    54704.14     8596.56         0.00  2016  \n",
       "1514    53332.61     8258.16       825.00  2016  \n",
       "1515    55653.47     8278.26         0.00  2016  \n",
       "1516    57456.21    11648.35         0.00  2016  \n",
       "\n",
       "[1517 rows x 10 columns]"
      ]
     },
     "execution_count": 11,
     "metadata": {},
     "output_type": "execute_result"
    }
   ],
   "source": [
    "df"
   ]
  },
  {
   "cell_type": "code",
   "execution_count": 12,
   "metadata": {},
   "outputs": [
    {
     "data": {
      "text/plain": [
       "Index(['AveragePrice', 'Total Volume', '4046', '4225', '4770', 'Total Bags',\n",
       "       'Small Bags', 'Large Bags', 'XLarge Bags', 'year'],\n",
       "      dtype='object')"
      ]
     },
     "execution_count": 12,
     "metadata": {},
     "output_type": "execute_result"
    }
   ],
   "source": [
    "df.columns"
   ]
  },
  {
   "cell_type": "markdown",
   "metadata": {},
   "source": [
    "As seen in dataset there is 4 column Unnamed,type,region and year which does not play any role in the price of avocado so i am dropping that column\n",
    "which will also help to remove outlier"
   ]
  },
  {
   "cell_type": "code",
   "execution_count": 13,
   "metadata": {},
   "outputs": [
    {
     "data": {
      "text/plain": [
       "<AxesSubplot:>"
      ]
     },
     "execution_count": 13,
     "metadata": {},
     "output_type": "execute_result"
    },
    {
     "data": {
      "image/png": "[encoded data removed]",
      "text/plain": [
       "<Figure size 432x288 with 2 Axes>"
      ]
     },
     "metadata": {
      "needs_background": "light"
     },
     "output_type": "display_data"
    }
   ],
   "source": [
    "sns.heatmap(df.isnull())"
   ]
  },
  {
   "cell_type": "markdown",
   "metadata": {},
   "source": [
    "There are no null values in dataset"
   ]
  },
  {
   "cell_type": "code",
   "execution_count": 14,
   "metadata": {},
   "outputs": [
    {
     "data": {
      "text/plain": [
       "year\n",
       "2015    1.060110\n",
       "2016    1.151498\n",
       "Name: AveragePrice, dtype: float64"
      ]
     },
     "execution_count": 14,
     "metadata": {},
     "output_type": "execute_result"
    }
   ],
   "source": [
    "df.groupby('year')['AveragePrice'].mean()"
   ]
  },
  {
   "cell_type": "markdown",
   "metadata": {},
   "source": [
    "As we can see avocado price is higher in 2016 compared to 2015"
   ]
  },
  {
   "cell_type": "code",
   "execution_count": 15,
   "metadata": {},
   "outputs": [
    {
     "data": {
      "text/html": [
       "<div>\n",
       "<style scoped>\n",
       "    .dataframe tbody tr th:only-of-type {\n",
       "        vertical-align: middle;\n",
       "    }\n",
       "\n",
       "    .dataframe tbody tr th {\n",
       "        vertical-align: top;\n",
       "    }\n",
       "\n",
       "    .dataframe thead th {\n",
       "        text-align: right;\n",
       "    }\n",
       "</style>\n",
       "<table border=\"1\" class=\"dataframe\">\n",
       "  <thead>\n",
       "    <tr style=\"text-align: right;\">\n",
       "      <th></th>\n",
       "      <th>AveragePrice</th>\n",
       "      <th>Total Volume</th>\n",
       "      <th>4046</th>\n",
       "      <th>4225</th>\n",
       "      <th>4770</th>\n",
       "      <th>Total Bags</th>\n",
       "      <th>Small Bags</th>\n",
       "      <th>Large Bags</th>\n",
       "      <th>XLarge Bags</th>\n",
       "      <th>year</th>\n",
       "    </tr>\n",
       "  </thead>\n",
       "  <tbody>\n",
       "    <tr>\n",
       "      <th>count</th>\n",
       "      <td>1517.000000</td>\n",
       "      <td>1.517000e+03</td>\n",
       "      <td>1.517000e+03</td>\n",
       "      <td>1.517000e+03</td>\n",
       "      <td>1.517000e+03</td>\n",
       "      <td>1.517000e+03</td>\n",
       "      <td>1.517000e+03</td>\n",
       "      <td>1.517000e+03</td>\n",
       "      <td>1517.000000</td>\n",
       "      <td>1517.000000</td>\n",
       "    </tr>\n",
       "    <tr>\n",
       "      <th>mean</th>\n",
       "      <td>1.074990</td>\n",
       "      <td>1.601879e+06</td>\n",
       "      <td>6.464387e+05</td>\n",
       "      <td>6.114375e+05</td>\n",
       "      <td>5.040550e+04</td>\n",
       "      <td>2.935974e+05</td>\n",
       "      <td>2.487736e+05</td>\n",
       "      <td>4.264205e+04</td>\n",
       "      <td>2181.771074</td>\n",
       "      <td>2015.162821</td>\n",
       "    </tr>\n",
       "    <tr>\n",
       "      <th>std</th>\n",
       "      <td>0.188891</td>\n",
       "      <td>4.433143e+06</td>\n",
       "      <td>1.947614e+06</td>\n",
       "      <td>1.672906e+06</td>\n",
       "      <td>1.377812e+05</td>\n",
       "      <td>7.579765e+05</td>\n",
       "      <td>6.474765e+05</td>\n",
       "      <td>1.182157e+05</td>\n",
       "      <td>7455.712144</td>\n",
       "      <td>0.369324</td>\n",
       "    </tr>\n",
       "    <tr>\n",
       "      <th>min</th>\n",
       "      <td>0.490000</td>\n",
       "      <td>3.875074e+04</td>\n",
       "      <td>4.677200e+02</td>\n",
       "      <td>1.783770e+03</td>\n",
       "      <td>0.000000e+00</td>\n",
       "      <td>3.311770e+03</td>\n",
       "      <td>3.311770e+03</td>\n",
       "      <td>0.000000e+00</td>\n",
       "      <td>0.000000</td>\n",
       "      <td>2015.000000</td>\n",
       "    </tr>\n",
       "    <tr>\n",
       "      <th>25%</th>\n",
       "      <td>0.980000</td>\n",
       "      <td>1.474700e+05</td>\n",
       "      <td>2.040034e+04</td>\n",
       "      <td>4.147606e+04</td>\n",
       "      <td>9.112500e+02</td>\n",
       "      <td>3.620689e+04</td>\n",
       "      <td>2.972722e+04</td>\n",
       "      <td>5.407400e+02</td>\n",
       "      <td>0.000000</td>\n",
       "      <td>2015.000000</td>\n",
       "    </tr>\n",
       "    <tr>\n",
       "      <th>50%</th>\n",
       "      <td>1.080000</td>\n",
       "      <td>4.027919e+05</td>\n",
       "      <td>8.175117e+04</td>\n",
       "      <td>1.186649e+05</td>\n",
       "      <td>7.688170e+03</td>\n",
       "      <td>7.397906e+04</td>\n",
       "      <td>6.237569e+04</td>\n",
       "      <td>5.044350e+03</td>\n",
       "      <td>0.000000</td>\n",
       "      <td>2015.000000</td>\n",
       "    </tr>\n",
       "    <tr>\n",
       "      <th>75%</th>\n",
       "      <td>1.190000</td>\n",
       "      <td>9.819751e+05</td>\n",
       "      <td>3.775785e+05</td>\n",
       "      <td>4.851503e+05</td>\n",
       "      <td>2.916730e+04</td>\n",
       "      <td>1.576097e+05</td>\n",
       "      <td>1.461994e+05</td>\n",
       "      <td>2.926767e+04</td>\n",
       "      <td>401.480000</td>\n",
       "      <td>2015.000000</td>\n",
       "    </tr>\n",
       "    <tr>\n",
       "      <th>max</th>\n",
       "      <td>1.680000</td>\n",
       "      <td>4.465546e+07</td>\n",
       "      <td>1.893304e+07</td>\n",
       "      <td>1.895648e+07</td>\n",
       "      <td>1.381516e+06</td>\n",
       "      <td>6.736304e+06</td>\n",
       "      <td>5.893642e+06</td>\n",
       "      <td>1.121076e+06</td>\n",
       "      <td>108072.790000</td>\n",
       "      <td>2016.000000</td>\n",
       "    </tr>\n",
       "  </tbody>\n",
       "</table>\n",
       "</div>"
      ],
      "text/plain": [
       "       AveragePrice  Total Volume          4046          4225          4770  \\\n",
       "count   1517.000000  1.517000e+03  1.517000e+03  1.517000e+03  1.517000e+03   \n",
       "mean       1.074990  1.601879e+06  6.464387e+05  6.114375e+05  5.040550e+04   \n",
       "std        0.188891  4.433143e+06  1.947614e+06  1.672906e+06  1.377812e+05   \n",
       "min        0.490000  3.875074e+04  4.677200e+02  1.783770e+03  0.000000e+00   \n",
       "25%        0.980000  1.474700e+05  2.040034e+04  4.147606e+04  9.112500e+02   \n",
       "50%        1.080000  4.027919e+05  8.175117e+04  1.186649e+05  7.688170e+03   \n",
       "75%        1.190000  9.819751e+05  3.775785e+05  4.851503e+05  2.916730e+04   \n",
       "max        1.680000  4.465546e+07  1.893304e+07  1.895648e+07  1.381516e+06   \n",
       "\n",
       "         Total Bags    Small Bags    Large Bags    XLarge Bags         year  \n",
       "count  1.517000e+03  1.517000e+03  1.517000e+03    1517.000000  1517.000000  \n",
       "mean   2.935974e+05  2.487736e+05  4.264205e+04    2181.771074  2015.162821  \n",
       "std    7.579765e+05  6.474765e+05  1.182157e+05    7455.712144     0.369324  \n",
       "min    3.311770e+03  3.311770e+03  0.000000e+00       0.000000  2015.000000  \n",
       "25%    3.620689e+04  2.972722e+04  5.407400e+02       0.000000  2015.000000  \n",
       "50%    7.397906e+04  6.237569e+04  5.044350e+03       0.000000  2015.000000  \n",
       "75%    1.576097e+05  1.461994e+05  2.926767e+04     401.480000  2015.000000  \n",
       "max    6.736304e+06  5.893642e+06  1.121076e+06  108072.790000  2016.000000  "
      ]
     },
     "execution_count": 15,
     "metadata": {},
     "output_type": "execute_result"
    }
   ],
   "source": [
    "df.describe()"
   ]
  },
  {
   "cell_type": "markdown",
   "metadata": {},
   "source": [
    "Number of rows in each columns are same means there are no null values"
   ]
  },
  {
   "cell_type": "markdown",
   "metadata": {},
   "source": [
    "Also, there are skewness in Xlarge bags, Large bags which we will check it soon"
   ]
  },
  {
   "cell_type": "markdown",
   "metadata": {},
   "source": [
    "# Data visualization"
   ]
  },
  {
   "cell_type": "code",
   "execution_count": 16,
   "metadata": {},
   "outputs": [
    {
     "data": {
      "text/plain": [
       "<AxesSubplot:xlabel='year', ylabel='AveragePrice'>"
      ]
     },
     "execution_count": 16,
     "metadata": {},
     "output_type": "execute_result"
    },
    {
     "data": {
      "image/png": "[encoded data removed]",
      "text/plain": [
       "<Figure size 432x288 with 1 Axes>"
      ]
     },
     "metadata": {
      "needs_background": "light"
     },
     "output_type": "display_data"
    }
   ],
   "source": [
    "sns.barplot(x='year',y='AveragePrice',data=df)"
   ]
  },
  {
   "cell_type": "markdown",
   "metadata": {},
   "source": [
    "so above graph showing that 2016 is the year where max average price is there"
   ]
  },
  {
   "cell_type": "code",
   "execution_count": 17,
   "metadata": {},
   "outputs": [
    {
     "data": {
      "image/png": "[encoded data removed]",
      "text/plain": [
       "<Figure size 720x576 with 1 Axes>"
      ]
     },
     "metadata": {
      "needs_background": "light"
     },
     "output_type": "display_data"
    }
   ],
   "source": [
    "plt.figure(figsize=(10,8))\n",
    "sns.lineplot(x='year',y='AveragePrice',data=df)\n",
    "plt.show()"
   ]
  },
  {
   "cell_type": "markdown",
   "metadata": {},
   "source": [
    "As we can clearly see that the price of avaocado has increase rapidly in 1 year it shows that there is so much craze for avocado"
   ]
  },
  {
   "cell_type": "code",
   "execution_count": 18,
   "metadata": {},
   "outputs": [
    {
     "data": {
      "text/plain": [
       "array([[<AxesSubplot:title={'center':'AveragePrice'}>,\n",
       "        <AxesSubplot:title={'center':'Total Volume'}>,\n",
       "        <AxesSubplot:title={'center':'4046'}>,\n",
       "        <AxesSubplot:title={'center':'4225'}>],\n",
       "       [<AxesSubplot:title={'center':'4770'}>,\n",
       "        <AxesSubplot:title={'center':'Total Bags'}>,\n",
       "        <AxesSubplot:title={'center':'Small Bags'}>,\n",
       "        <AxesSubplot:title={'center':'Large Bags'}>],\n",
       "       [<AxesSubplot:title={'center':'XLarge Bags'}>,\n",
       "        <AxesSubplot:title={'center':'year'}>, <AxesSubplot:>,\n",
       "        <AxesSubplot:>],\n",
       "       [<AxesSubplot:>, <AxesSubplot:>, <AxesSubplot:>, <AxesSubplot:>]],\n",
       "      dtype=object)"
      ]
     },
     "execution_count": 18,
     "metadata": {},
     "output_type": "execute_result"
    },
    {
     "data": {
      "image/png": "[encoded data removed]",
      "text/plain": [
       "<Figure size 1152x720 with 16 Axes>"
      ]
     },
     "metadata": {
      "needs_background": "light"
     },
     "output_type": "display_data"
    }
   ],
   "source": [
    "df.hist(figsize=(16,10),grid=True,layout=(4,4),bins=20)"
   ]
  },
  {
   "cell_type": "markdown",
   "metadata": {},
   "source": [
    "Average price column is normally distributing over the histogram"
   ]
  },
  {
   "cell_type": "markdown",
   "metadata": {},
   "source": [
    "Rest of the data are not much varying in term of numbers, so they are left skewed data"
   ]
  },
  {
   "cell_type": "code",
   "execution_count": 19,
   "metadata": {},
   "outputs": [
    {
     "data": {
      "text/plain": [
       "AveragePrice   -0.109444\n",
       "Total Volume    6.200138\n",
       "4046            6.051830\n",
       "4225            6.394926\n",
       "4770            5.405164\n",
       "Total Bags      5.366378\n",
       "Small Bags      5.355185\n",
       "Large Bags      5.144495\n",
       "XLarge Bags     5.775077\n",
       "year            1.828332\n",
       "dtype: float64"
      ]
     },
     "execution_count": 19,
     "metadata": {},
     "output_type": "execute_result"
    }
   ],
   "source": [
    "df.skew()"
   ]
  },
  {
   "cell_type": "code",
   "execution_count": 20,
   "metadata": {},
   "outputs": [],
   "source": [
    "#making the skewness less than or equal to 0.55 for better prediction and plotting normal distribution\n",
    "skew=('Total Volume','4046','4225','4770','Total Bags','Small Bags','Large Bags','XLarge Bags')"
   ]
  },
  {
   "cell_type": "code",
   "execution_count": 21,
   "metadata": {},
   "outputs": [],
   "source": [
    "for col in skew:\n",
    "    if df.skew().loc[col]>0.55:\n",
    "        df[col]=np.log1p(df[col])"
   ]
  },
  {
   "cell_type": "markdown",
   "metadata": {},
   "source": [
    "The best skew value for normally distributes is very close to zero, so we are using “log1p” method to make the skew value near to zero"
   ]
  },
  {
   "cell_type": "markdown",
   "metadata": {},
   "source": [
    "Converting type and region into numeric value by encoder"
   ]
  },
  {
   "cell_type": "code",
   "execution_count": 22,
   "metadata": {},
   "outputs": [],
   "source": [
    "from sklearn.preprocessing import LabelEncoder"
   ]
  },
  {
   "cell_type": "code",
   "execution_count": 23,
   "metadata": {},
   "outputs": [],
   "source": [
    "le=LabelEncoder()"
   ]
  },
  {
   "cell_type": "code",
   "execution_count": 24,
   "metadata": {},
   "outputs": [
    {
     "data": {
      "text/html": [
       "<div>\n",
       "<style scoped>\n",
       "    .dataframe tbody tr th:only-of-type {\n",
       "        vertical-align: middle;\n",
       "    }\n",
       "\n",
       "    .dataframe tbody tr th {\n",
       "        vertical-align: top;\n",
       "    }\n",
       "\n",
       "    .dataframe thead th {\n",
       "        text-align: right;\n",
       "    }\n",
       "</style>\n",
       "<table border=\"1\" class=\"dataframe\">\n",
       "  <thead>\n",
       "    <tr style=\"text-align: right;\">\n",
       "      <th></th>\n",
       "      <th>AveragePrice</th>\n",
       "      <th>Total Volume</th>\n",
       "      <th>4046</th>\n",
       "      <th>4225</th>\n",
       "      <th>4770</th>\n",
       "      <th>Total Bags</th>\n",
       "      <th>Small Bags</th>\n",
       "      <th>Large Bags</th>\n",
       "      <th>XLarge Bags</th>\n",
       "      <th>year</th>\n",
       "    </tr>\n",
       "  </thead>\n",
       "  <tbody>\n",
       "    <tr>\n",
       "      <th>0</th>\n",
       "      <td>1.33</td>\n",
       "      <td>11.070344</td>\n",
       "      <td>6.944801</td>\n",
       "      <td>10.905146</td>\n",
       "      <td>3.895080</td>\n",
       "      <td>9.070833</td>\n",
       "      <td>9.060055</td>\n",
       "      <td>4.545951</td>\n",
       "      <td>0.000000</td>\n",
       "      <td>2015</td>\n",
       "    </tr>\n",
       "    <tr>\n",
       "      <th>1</th>\n",
       "      <td>1.35</td>\n",
       "      <td>10.912867</td>\n",
       "      <td>6.515127</td>\n",
       "      <td>10.706381</td>\n",
       "      <td>4.083115</td>\n",
       "      <td>9.159737</td>\n",
       "      <td>9.149429</td>\n",
       "      <td>4.589955</td>\n",
       "      <td>0.000000</td>\n",
       "      <td>2015</td>\n",
       "    </tr>\n",
       "    <tr>\n",
       "      <th>2</th>\n",
       "      <td>0.93</td>\n",
       "      <td>11.680313</td>\n",
       "      <td>6.679222</td>\n",
       "      <td>11.600485</td>\n",
       "      <td>4.879007</td>\n",
       "      <td>9.005325</td>\n",
       "      <td>8.992584</td>\n",
       "      <td>4.645736</td>\n",
       "      <td>0.000000</td>\n",
       "      <td>2015</td>\n",
       "    </tr>\n",
       "    <tr>\n",
       "      <th>3</th>\n",
       "      <td>1.08</td>\n",
       "      <td>11.277116</td>\n",
       "      <td>7.032624</td>\n",
       "      <td>11.184108</td>\n",
       "      <td>4.298373</td>\n",
       "      <td>8.667708</td>\n",
       "      <td>8.644425</td>\n",
       "      <td>4.903495</td>\n",
       "      <td>0.000000</td>\n",
       "      <td>2015</td>\n",
       "    </tr>\n",
       "    <tr>\n",
       "      <th>4</th>\n",
       "      <td>1.28</td>\n",
       "      <td>10.840377</td>\n",
       "      <td>6.848515</td>\n",
       "      <td>10.688288</td>\n",
       "      <td>4.340944</td>\n",
       "      <td>8.729874</td>\n",
       "      <td>8.697389</td>\n",
       "      <td>5.291746</td>\n",
       "      <td>0.000000</td>\n",
       "      <td>2015</td>\n",
       "    </tr>\n",
       "    <tr>\n",
       "      <th>...</th>\n",
       "      <td>...</td>\n",
       "      <td>...</td>\n",
       "      <td>...</td>\n",
       "      <td>...</td>\n",
       "      <td>...</td>\n",
       "      <td>...</td>\n",
       "      <td>...</td>\n",
       "      <td>...</td>\n",
       "      <td>...</td>\n",
       "      <td>...</td>\n",
       "    </tr>\n",
       "    <tr>\n",
       "      <th>1512</th>\n",
       "      <td>1.39</td>\n",
       "      <td>12.159227</td>\n",
       "      <td>10.960064</td>\n",
       "      <td>10.939651</td>\n",
       "      <td>9.771828</td>\n",
       "      <td>10.992377</td>\n",
       "      <td>10.795988</td>\n",
       "      <td>9.245288</td>\n",
       "      <td>5.485958</td>\n",
       "      <td>2016</td>\n",
       "    </tr>\n",
       "    <tr>\n",
       "      <th>1513</th>\n",
       "      <td>1.51</td>\n",
       "      <td>12.090868</td>\n",
       "      <td>10.676528</td>\n",
       "      <td>10.862658</td>\n",
       "      <td>9.874088</td>\n",
       "      <td>11.055667</td>\n",
       "      <td>10.909713</td>\n",
       "      <td>9.059234</td>\n",
       "      <td>0.000000</td>\n",
       "      <td>2016</td>\n",
       "    </tr>\n",
       "    <tr>\n",
       "      <th>1514</th>\n",
       "      <td>1.48</td>\n",
       "      <td>12.091850</td>\n",
       "      <td>10.744316</td>\n",
       "      <td>10.876052</td>\n",
       "      <td>9.725432</td>\n",
       "      <td>11.041589</td>\n",
       "      <td>10.884322</td>\n",
       "      <td>9.019078</td>\n",
       "      <td>6.716595</td>\n",
       "      <td>2016</td>\n",
       "    </tr>\n",
       "    <tr>\n",
       "      <th>1515</th>\n",
       "      <td>1.47</td>\n",
       "      <td>12.150203</td>\n",
       "      <td>10.898807</td>\n",
       "      <td>10.889203</td>\n",
       "      <td>9.769752</td>\n",
       "      <td>11.065587</td>\n",
       "      <td>10.926918</td>\n",
       "      <td>9.021509</td>\n",
       "      <td>0.000000</td>\n",
       "      <td>2016</td>\n",
       "    </tr>\n",
       "    <tr>\n",
       "      <th>1516</th>\n",
       "      <td>1.43</td>\n",
       "      <td>12.117128</td>\n",
       "      <td>10.671682</td>\n",
       "      <td>10.900333</td>\n",
       "      <td>9.715042</td>\n",
       "      <td>11.143390</td>\n",
       "      <td>10.958796</td>\n",
       "      <td>9.363006</td>\n",
       "      <td>0.000000</td>\n",
       "      <td>2016</td>\n",
       "    </tr>\n",
       "  </tbody>\n",
       "</table>\n",
       "<p>1517 rows × 10 columns</p>\n",
       "</div>"
      ],
      "text/plain": [
       "      AveragePrice  Total Volume       4046       4225      4770  Total Bags  \\\n",
       "0             1.33     11.070344   6.944801  10.905146  3.895080    9.070833   \n",
       "1             1.35     10.912867   6.515127  10.706381  4.083115    9.159737   \n",
       "2             0.93     11.680313   6.679222  11.600485  4.879007    9.005325   \n",
       "3             1.08     11.277116   7.032624  11.184108  4.298373    8.667708   \n",
       "4             1.28     10.840377   6.848515  10.688288  4.340944    8.729874   \n",
       "...            ...           ...        ...        ...       ...         ...   \n",
       "1512          1.39     12.159227  10.960064  10.939651  9.771828   10.992377   \n",
       "1513          1.51     12.090868  10.676528  10.862658  9.874088   11.055667   \n",
       "1514          1.48     12.091850  10.744316  10.876052  9.725432   11.041589   \n",
       "1515          1.47     12.150203  10.898807  10.889203  9.769752   11.065587   \n",
       "1516          1.43     12.117128  10.671682  10.900333  9.715042   11.143390   \n",
       "\n",
       "      Small Bags  Large Bags  XLarge Bags  year  \n",
       "0       9.060055    4.545951     0.000000  2015  \n",
       "1       9.149429    4.589955     0.000000  2015  \n",
       "2       8.992584    4.645736     0.000000  2015  \n",
       "3       8.644425    4.903495     0.000000  2015  \n",
       "4       8.697389    5.291746     0.000000  2015  \n",
       "...          ...         ...          ...   ...  \n",
       "1512   10.795988    9.245288     5.485958  2016  \n",
       "1513   10.909713    9.059234     0.000000  2016  \n",
       "1514   10.884322    9.019078     6.716595  2016  \n",
       "1515   10.926918    9.021509     0.000000  2016  \n",
       "1516   10.958796    9.363006     0.000000  2016  \n",
       "\n",
       "[1517 rows x 10 columns]"
      ]
     },
     "execution_count": 24,
     "metadata": {},
     "output_type": "execute_result"
    }
   ],
   "source": [
    "df"
   ]
  },
  {
   "cell_type": "markdown",
   "metadata": {},
   "source": [
    "# Outliers"
   ]
  },
  {
   "cell_type": "code",
   "execution_count": 25,
   "metadata": {},
   "outputs": [
    {
     "data": {
      "text/plain": [
       "AveragePrice        AxesSubplot(0.125,0.71587;0.133621x0.16413)\n",
       "Total Volume     AxesSubplot(0.285345,0.71587;0.133621x0.16413)\n",
       "4046              AxesSubplot(0.44569,0.71587;0.133621x0.16413)\n",
       "4225             AxesSubplot(0.606034,0.71587;0.133621x0.16413)\n",
       "4770             AxesSubplot(0.766379,0.71587;0.133621x0.16413)\n",
       "Total Bags         AxesSubplot(0.125,0.518913;0.133621x0.16413)\n",
       "Small Bags      AxesSubplot(0.285345,0.518913;0.133621x0.16413)\n",
       "Large Bags       AxesSubplot(0.44569,0.518913;0.133621x0.16413)\n",
       "XLarge Bags     AxesSubplot(0.606034,0.518913;0.133621x0.16413)\n",
       "year            AxesSubplot(0.766379,0.518913;0.133621x0.16413)\n",
       "dtype: object"
      ]
     },
     "execution_count": 25,
     "metadata": {},
     "output_type": "execute_result"
    },
    {
     "data": {
      "image/png": "[encoded data removed]",
      "text/plain": [
       "<Figure size 1008x720 with 20 Axes>"
      ]
     },
     "metadata": {
      "needs_background": "light"
     },
     "output_type": "display_data"
    }
   ],
   "source": [
    "df.plot(kind='box',subplots=True,layout=(4,5),figsize=(14,10))"
   ]
  },
  {
   "cell_type": "markdown",
   "metadata": {},
   "source": [
    "From above image we can clear see that there are number of black dots in most of the column which are referring to the outliers, so it means most of the data are outside the distribution."
   ]
  },
  {
   "cell_type": "markdown",
   "metadata": {},
   "source": [
    "Now we should remove the outlier by using zscore"
   ]
  },
  {
   "cell_type": "code",
   "execution_count": 26,
   "metadata": {},
   "outputs": [
    {
     "data": {
      "text/plain": [
       "array([[1.35048079, 1.35676174, 1.82816171, ..., 0.96674301, 0.81077519,\n",
       "        0.44100815],\n",
       "       [1.45639674, 1.46638736, 2.01206913, ..., 0.95386092, 0.81077519,\n",
       "        0.44100815],\n",
       "       [0.76783831, 0.9321394 , 1.94183376, ..., 0.93753117, 0.81077519,\n",
       "        0.44100815],\n",
       "       ...,\n",
       "       [2.14485045, 0.64565294, 0.20190426, ..., 0.34275114, 1.10389091,\n",
       "        2.26753179],\n",
       "       [2.09189247, 0.60503087, 0.13577946, ..., 0.34346272, 0.81077519,\n",
       "        2.26753179],\n",
       "       [1.88006056, 0.62805557, 0.23299293, ..., 0.44343485, 0.81077519,\n",
       "        2.26753179]])"
      ]
     },
     "execution_count": 26,
     "metadata": {},
     "output_type": "execute_result"
    }
   ],
   "source": [
    "from scipy.stats import zscore\n",
    "z=np.abs(zscore(df))\n",
    "z"
   ]
  },
  {
   "cell_type": "code",
   "execution_count": 27,
   "metadata": {},
   "outputs": [
    {
     "name": "stdout",
     "output_type": "stream",
     "text": [
      "(array([ 760, 1182, 1182, 1182, 1183, 1183, 1183, 1184, 1184, 1184, 1185,\n",
      "       1185, 1185, 1186, 1186, 1186, 1187, 1188, 1188, 1188, 1189, 1189,\n",
      "       1191, 1202, 1346, 1411, 1457, 1458], dtype=int64), array([0, 1, 5, 6, 1, 5, 6, 1, 5, 6, 1, 5, 6, 1, 5, 6, 6, 1, 5, 6, 1, 5,\n",
      "       5, 1, 4, 0, 0, 0], dtype=int64))\n"
     ]
    }
   ],
   "source": [
    "threshold=3\n",
    "print(np.where(z>3))"
   ]
  },
  {
   "cell_type": "code",
   "execution_count": 28,
   "metadata": {},
   "outputs": [],
   "source": [
    "df_new=df[(z<3).all(axis=1)]"
   ]
  },
  {
   "cell_type": "code",
   "execution_count": 29,
   "metadata": {},
   "outputs": [
    {
     "data": {
      "text/html": [
       "<div>\n",
       "<style scoped>\n",
       "    .dataframe tbody tr th:only-of-type {\n",
       "        vertical-align: middle;\n",
       "    }\n",
       "\n",
       "    .dataframe tbody tr th {\n",
       "        vertical-align: top;\n",
       "    }\n",
       "\n",
       "    .dataframe thead th {\n",
       "        text-align: right;\n",
       "    }\n",
       "</style>\n",
       "<table border=\"1\" class=\"dataframe\">\n",
       "  <thead>\n",
       "    <tr style=\"text-align: right;\">\n",
       "      <th></th>\n",
       "      <th>AveragePrice</th>\n",
       "      <th>Total Volume</th>\n",
       "      <th>4046</th>\n",
       "      <th>4225</th>\n",
       "      <th>4770</th>\n",
       "      <th>Total Bags</th>\n",
       "      <th>Small Bags</th>\n",
       "      <th>Large Bags</th>\n",
       "      <th>XLarge Bags</th>\n",
       "      <th>year</th>\n",
       "    </tr>\n",
       "  </thead>\n",
       "  <tbody>\n",
       "    <tr>\n",
       "      <th>0</th>\n",
       "      <td>1.33</td>\n",
       "      <td>11.070344</td>\n",
       "      <td>6.944801</td>\n",
       "      <td>10.905146</td>\n",
       "      <td>3.895080</td>\n",
       "      <td>9.070833</td>\n",
       "      <td>9.060055</td>\n",
       "      <td>4.545951</td>\n",
       "      <td>0.000000</td>\n",
       "      <td>2015</td>\n",
       "    </tr>\n",
       "    <tr>\n",
       "      <th>1</th>\n",
       "      <td>1.35</td>\n",
       "      <td>10.912867</td>\n",
       "      <td>6.515127</td>\n",
       "      <td>10.706381</td>\n",
       "      <td>4.083115</td>\n",
       "      <td>9.159737</td>\n",
       "      <td>9.149429</td>\n",
       "      <td>4.589955</td>\n",
       "      <td>0.000000</td>\n",
       "      <td>2015</td>\n",
       "    </tr>\n",
       "    <tr>\n",
       "      <th>2</th>\n",
       "      <td>0.93</td>\n",
       "      <td>11.680313</td>\n",
       "      <td>6.679222</td>\n",
       "      <td>11.600485</td>\n",
       "      <td>4.879007</td>\n",
       "      <td>9.005325</td>\n",
       "      <td>8.992584</td>\n",
       "      <td>4.645736</td>\n",
       "      <td>0.000000</td>\n",
       "      <td>2015</td>\n",
       "    </tr>\n",
       "    <tr>\n",
       "      <th>3</th>\n",
       "      <td>1.08</td>\n",
       "      <td>11.277116</td>\n",
       "      <td>7.032624</td>\n",
       "      <td>11.184108</td>\n",
       "      <td>4.298373</td>\n",
       "      <td>8.667708</td>\n",
       "      <td>8.644425</td>\n",
       "      <td>4.903495</td>\n",
       "      <td>0.000000</td>\n",
       "      <td>2015</td>\n",
       "    </tr>\n",
       "    <tr>\n",
       "      <th>4</th>\n",
       "      <td>1.28</td>\n",
       "      <td>10.840377</td>\n",
       "      <td>6.848515</td>\n",
       "      <td>10.688288</td>\n",
       "      <td>4.340944</td>\n",
       "      <td>8.729874</td>\n",
       "      <td>8.697389</td>\n",
       "      <td>5.291746</td>\n",
       "      <td>0.000000</td>\n",
       "      <td>2015</td>\n",
       "    </tr>\n",
       "    <tr>\n",
       "      <th>...</th>\n",
       "      <td>...</td>\n",
       "      <td>...</td>\n",
       "      <td>...</td>\n",
       "      <td>...</td>\n",
       "      <td>...</td>\n",
       "      <td>...</td>\n",
       "      <td>...</td>\n",
       "      <td>...</td>\n",
       "      <td>...</td>\n",
       "      <td>...</td>\n",
       "    </tr>\n",
       "    <tr>\n",
       "      <th>1512</th>\n",
       "      <td>1.39</td>\n",
       "      <td>12.159227</td>\n",
       "      <td>10.960064</td>\n",
       "      <td>10.939651</td>\n",
       "      <td>9.771828</td>\n",
       "      <td>10.992377</td>\n",
       "      <td>10.795988</td>\n",
       "      <td>9.245288</td>\n",
       "      <td>5.485958</td>\n",
       "      <td>2016</td>\n",
       "    </tr>\n",
       "    <tr>\n",
       "      <th>1513</th>\n",
       "      <td>1.51</td>\n",
       "      <td>12.090868</td>\n",
       "      <td>10.676528</td>\n",
       "      <td>10.862658</td>\n",
       "      <td>9.874088</td>\n",
       "      <td>11.055667</td>\n",
       "      <td>10.909713</td>\n",
       "      <td>9.059234</td>\n",
       "      <td>0.000000</td>\n",
       "      <td>2016</td>\n",
       "    </tr>\n",
       "    <tr>\n",
       "      <th>1514</th>\n",
       "      <td>1.48</td>\n",
       "      <td>12.091850</td>\n",
       "      <td>10.744316</td>\n",
       "      <td>10.876052</td>\n",
       "      <td>9.725432</td>\n",
       "      <td>11.041589</td>\n",
       "      <td>10.884322</td>\n",
       "      <td>9.019078</td>\n",
       "      <td>6.716595</td>\n",
       "      <td>2016</td>\n",
       "    </tr>\n",
       "    <tr>\n",
       "      <th>1515</th>\n",
       "      <td>1.47</td>\n",
       "      <td>12.150203</td>\n",
       "      <td>10.898807</td>\n",
       "      <td>10.889203</td>\n",
       "      <td>9.769752</td>\n",
       "      <td>11.065587</td>\n",
       "      <td>10.926918</td>\n",
       "      <td>9.021509</td>\n",
       "      <td>0.000000</td>\n",
       "      <td>2016</td>\n",
       "    </tr>\n",
       "    <tr>\n",
       "      <th>1516</th>\n",
       "      <td>1.43</td>\n",
       "      <td>12.117128</td>\n",
       "      <td>10.671682</td>\n",
       "      <td>10.900333</td>\n",
       "      <td>9.715042</td>\n",
       "      <td>11.143390</td>\n",
       "      <td>10.958796</td>\n",
       "      <td>9.363006</td>\n",
       "      <td>0.000000</td>\n",
       "      <td>2016</td>\n",
       "    </tr>\n",
       "  </tbody>\n",
       "</table>\n",
       "<p>1502 rows × 10 columns</p>\n",
       "</div>"
      ],
      "text/plain": [
       "      AveragePrice  Total Volume       4046       4225      4770  Total Bags  \\\n",
       "0             1.33     11.070344   6.944801  10.905146  3.895080    9.070833   \n",
       "1             1.35     10.912867   6.515127  10.706381  4.083115    9.159737   \n",
       "2             0.93     11.680313   6.679222  11.600485  4.879007    9.005325   \n",
       "3             1.08     11.277116   7.032624  11.184108  4.298373    8.667708   \n",
       "4             1.28     10.840377   6.848515  10.688288  4.340944    8.729874   \n",
       "...            ...           ...        ...        ...       ...         ...   \n",
       "1512          1.39     12.159227  10.960064  10.939651  9.771828   10.992377   \n",
       "1513          1.51     12.090868  10.676528  10.862658  9.874088   11.055667   \n",
       "1514          1.48     12.091850  10.744316  10.876052  9.725432   11.041589   \n",
       "1515          1.47     12.150203  10.898807  10.889203  9.769752   11.065587   \n",
       "1516          1.43     12.117128  10.671682  10.900333  9.715042   11.143390   \n",
       "\n",
       "      Small Bags  Large Bags  XLarge Bags  year  \n",
       "0       9.060055    4.545951     0.000000  2015  \n",
       "1       9.149429    4.589955     0.000000  2015  \n",
       "2       8.992584    4.645736     0.000000  2015  \n",
       "3       8.644425    4.903495     0.000000  2015  \n",
       "4       8.697389    5.291746     0.000000  2015  \n",
       "...          ...         ...          ...   ...  \n",
       "1512   10.795988    9.245288     5.485958  2016  \n",
       "1513   10.909713    9.059234     0.000000  2016  \n",
       "1514   10.884322    9.019078     6.716595  2016  \n",
       "1515   10.926918    9.021509     0.000000  2016  \n",
       "1516   10.958796    9.363006     0.000000  2016  \n",
       "\n",
       "[1502 rows x 10 columns]"
      ]
     },
     "execution_count": 29,
     "metadata": {},
     "output_type": "execute_result"
    }
   ],
   "source": [
    "df_new"
   ]
  },
  {
   "cell_type": "code",
   "execution_count": 30,
   "metadata": {},
   "outputs": [
    {
     "data": {
      "text/plain": [
       "(1517, 10)"
      ]
     },
     "execution_count": 30,
     "metadata": {},
     "output_type": "execute_result"
    }
   ],
   "source": [
    "df.shape"
   ]
  },
  {
   "cell_type": "code",
   "execution_count": 31,
   "metadata": {},
   "outputs": [
    {
     "data": {
      "text/plain": [
       "(1502, 10)"
      ]
     },
     "execution_count": 31,
     "metadata": {},
     "output_type": "execute_result"
    }
   ],
   "source": [
    "df_new.shape"
   ]
  },
  {
   "cell_type": "markdown",
   "metadata": {},
   "source": [
    "After, removing the outlier’s final there are 1502 and 10 column presents in the data set."
   ]
  },
  {
   "cell_type": "markdown",
   "metadata": {},
   "source": [
    "Now I am finding the correlation value of each column, this value is categorized into mainly 2 parts that are:\n",
    "- Positive correlated value\n",
    "- Negative correlated value"
   ]
  },
  {
   "cell_type": "markdown",
   "metadata": {},
   "source": [
    "The most the value is positive means that column is much co related and vice versa."
   ]
  },
  {
   "cell_type": "code",
   "execution_count": 32,
   "metadata": {},
   "outputs": [
    {
     "data": {
      "text/plain": [
       "[]"
      ]
     },
     "execution_count": 32,
     "metadata": {},
     "output_type": "execute_result"
    },
    {
     "data": {
      "image/png": "[encoded data removed]",
      "text/plain": [
       "<Figure size 1080x576 with 2 Axes>"
      ]
     },
     "metadata": {
      "needs_background": "light"
     },
     "output_type": "display_data"
    }
   ],
   "source": [
    "df_cor=df.corr()\n",
    "plt.figure(figsize=(15,8))\n",
    "sns.heatmap(df_cor,annot=True)\n",
    "plt.plot()"
   ]
  },
  {
   "cell_type": "code",
   "execution_count": 33,
   "metadata": {},
   "outputs": [],
   "source": [
    "x=df_new.drop('AveragePrice',axis=1)\n",
    "y=df_new['AveragePrice']"
   ]
  },
  {
   "cell_type": "code",
   "execution_count": 34,
   "metadata": {},
   "outputs": [
    {
     "data": {
      "text/html": [
       "<div>\n",
       "<style scoped>\n",
       "    .dataframe tbody tr th:only-of-type {\n",
       "        vertical-align: middle;\n",
       "    }\n",
       "\n",
       "    .dataframe tbody tr th {\n",
       "        vertical-align: top;\n",
       "    }\n",
       "\n",
       "    .dataframe thead th {\n",
       "        text-align: right;\n",
       "    }\n",
       "</style>\n",
       "<table border=\"1\" class=\"dataframe\">\n",
       "  <thead>\n",
       "    <tr style=\"text-align: right;\">\n",
       "      <th></th>\n",
       "      <th>Total Volume</th>\n",
       "      <th>4046</th>\n",
       "      <th>4225</th>\n",
       "      <th>4770</th>\n",
       "      <th>Total Bags</th>\n",
       "      <th>Small Bags</th>\n",
       "      <th>Large Bags</th>\n",
       "      <th>XLarge Bags</th>\n",
       "      <th>year</th>\n",
       "    </tr>\n",
       "  </thead>\n",
       "  <tbody>\n",
       "    <tr>\n",
       "      <th>0</th>\n",
       "      <td>11.070344</td>\n",
       "      <td>6.944801</td>\n",
       "      <td>10.905146</td>\n",
       "      <td>3.895080</td>\n",
       "      <td>9.070833</td>\n",
       "      <td>9.060055</td>\n",
       "      <td>4.545951</td>\n",
       "      <td>0.000000</td>\n",
       "      <td>2015</td>\n",
       "    </tr>\n",
       "    <tr>\n",
       "      <th>1</th>\n",
       "      <td>10.912867</td>\n",
       "      <td>6.515127</td>\n",
       "      <td>10.706381</td>\n",
       "      <td>4.083115</td>\n",
       "      <td>9.159737</td>\n",
       "      <td>9.149429</td>\n",
       "      <td>4.589955</td>\n",
       "      <td>0.000000</td>\n",
       "      <td>2015</td>\n",
       "    </tr>\n",
       "    <tr>\n",
       "      <th>2</th>\n",
       "      <td>11.680313</td>\n",
       "      <td>6.679222</td>\n",
       "      <td>11.600485</td>\n",
       "      <td>4.879007</td>\n",
       "      <td>9.005325</td>\n",
       "      <td>8.992584</td>\n",
       "      <td>4.645736</td>\n",
       "      <td>0.000000</td>\n",
       "      <td>2015</td>\n",
       "    </tr>\n",
       "    <tr>\n",
       "      <th>3</th>\n",
       "      <td>11.277116</td>\n",
       "      <td>7.032624</td>\n",
       "      <td>11.184108</td>\n",
       "      <td>4.298373</td>\n",
       "      <td>8.667708</td>\n",
       "      <td>8.644425</td>\n",
       "      <td>4.903495</td>\n",
       "      <td>0.000000</td>\n",
       "      <td>2015</td>\n",
       "    </tr>\n",
       "    <tr>\n",
       "      <th>4</th>\n",
       "      <td>10.840377</td>\n",
       "      <td>6.848515</td>\n",
       "      <td>10.688288</td>\n",
       "      <td>4.340944</td>\n",
       "      <td>8.729874</td>\n",
       "      <td>8.697389</td>\n",
       "      <td>5.291746</td>\n",
       "      <td>0.000000</td>\n",
       "      <td>2015</td>\n",
       "    </tr>\n",
       "    <tr>\n",
       "      <th>...</th>\n",
       "      <td>...</td>\n",
       "      <td>...</td>\n",
       "      <td>...</td>\n",
       "      <td>...</td>\n",
       "      <td>...</td>\n",
       "      <td>...</td>\n",
       "      <td>...</td>\n",
       "      <td>...</td>\n",
       "      <td>...</td>\n",
       "    </tr>\n",
       "    <tr>\n",
       "      <th>1512</th>\n",
       "      <td>12.159227</td>\n",
       "      <td>10.960064</td>\n",
       "      <td>10.939651</td>\n",
       "      <td>9.771828</td>\n",
       "      <td>10.992377</td>\n",
       "      <td>10.795988</td>\n",
       "      <td>9.245288</td>\n",
       "      <td>5.485958</td>\n",
       "      <td>2016</td>\n",
       "    </tr>\n",
       "    <tr>\n",
       "      <th>1513</th>\n",
       "      <td>12.090868</td>\n",
       "      <td>10.676528</td>\n",
       "      <td>10.862658</td>\n",
       "      <td>9.874088</td>\n",
       "      <td>11.055667</td>\n",
       "      <td>10.909713</td>\n",
       "      <td>9.059234</td>\n",
       "      <td>0.000000</td>\n",
       "      <td>2016</td>\n",
       "    </tr>\n",
       "    <tr>\n",
       "      <th>1514</th>\n",
       "      <td>12.091850</td>\n",
       "      <td>10.744316</td>\n",
       "      <td>10.876052</td>\n",
       "      <td>9.725432</td>\n",
       "      <td>11.041589</td>\n",
       "      <td>10.884322</td>\n",
       "      <td>9.019078</td>\n",
       "      <td>6.716595</td>\n",
       "      <td>2016</td>\n",
       "    </tr>\n",
       "    <tr>\n",
       "      <th>1515</th>\n",
       "      <td>12.150203</td>\n",
       "      <td>10.898807</td>\n",
       "      <td>10.889203</td>\n",
       "      <td>9.769752</td>\n",
       "      <td>11.065587</td>\n",
       "      <td>10.926918</td>\n",
       "      <td>9.021509</td>\n",
       "      <td>0.000000</td>\n",
       "      <td>2016</td>\n",
       "    </tr>\n",
       "    <tr>\n",
       "      <th>1516</th>\n",
       "      <td>12.117128</td>\n",
       "      <td>10.671682</td>\n",
       "      <td>10.900333</td>\n",
       "      <td>9.715042</td>\n",
       "      <td>11.143390</td>\n",
       "      <td>10.958796</td>\n",
       "      <td>9.363006</td>\n",
       "      <td>0.000000</td>\n",
       "      <td>2016</td>\n",
       "    </tr>\n",
       "  </tbody>\n",
       "</table>\n",
       "<p>1502 rows × 9 columns</p>\n",
       "</div>"
      ],
      "text/plain": [
       "      Total Volume       4046       4225      4770  Total Bags  Small Bags  \\\n",
       "0        11.070344   6.944801  10.905146  3.895080    9.070833    9.060055   \n",
       "1        10.912867   6.515127  10.706381  4.083115    9.159737    9.149429   \n",
       "2        11.680313   6.679222  11.600485  4.879007    9.005325    8.992584   \n",
       "3        11.277116   7.032624  11.184108  4.298373    8.667708    8.644425   \n",
       "4        10.840377   6.848515  10.688288  4.340944    8.729874    8.697389   \n",
       "...            ...        ...        ...       ...         ...         ...   \n",
       "1512     12.159227  10.960064  10.939651  9.771828   10.992377   10.795988   \n",
       "1513     12.090868  10.676528  10.862658  9.874088   11.055667   10.909713   \n",
       "1514     12.091850  10.744316  10.876052  9.725432   11.041589   10.884322   \n",
       "1515     12.150203  10.898807  10.889203  9.769752   11.065587   10.926918   \n",
       "1516     12.117128  10.671682  10.900333  9.715042   11.143390   10.958796   \n",
       "\n",
       "      Large Bags  XLarge Bags  year  \n",
       "0       4.545951     0.000000  2015  \n",
       "1       4.589955     0.000000  2015  \n",
       "2       4.645736     0.000000  2015  \n",
       "3       4.903495     0.000000  2015  \n",
       "4       5.291746     0.000000  2015  \n",
       "...          ...          ...   ...  \n",
       "1512    9.245288     5.485958  2016  \n",
       "1513    9.059234     0.000000  2016  \n",
       "1514    9.019078     6.716595  2016  \n",
       "1515    9.021509     0.000000  2016  \n",
       "1516    9.363006     0.000000  2016  \n",
       "\n",
       "[1502 rows x 9 columns]"
      ]
     },
     "execution_count": 34,
     "metadata": {},
     "output_type": "execute_result"
    }
   ],
   "source": [
    "x"
   ]
  },
  {
   "cell_type": "code",
   "execution_count": 35,
   "metadata": {},
   "outputs": [
    {
     "data": {
      "text/plain": [
       "0       1.33\n",
       "1       1.35\n",
       "2       0.93\n",
       "3       1.08\n",
       "4       1.28\n",
       "        ... \n",
       "1512    1.39\n",
       "1513    1.51\n",
       "1514    1.48\n",
       "1515    1.47\n",
       "1516    1.43\n",
       "Name: AveragePrice, Length: 1502, dtype: float64"
      ]
     },
     "execution_count": 35,
     "metadata": {},
     "output_type": "execute_result"
    }
   ],
   "source": [
    "y"
   ]
  },
  {
   "cell_type": "code",
   "execution_count": 36,
   "metadata": {},
   "outputs": [],
   "source": [
    "from sklearn.linear_model import LinearRegression\n",
    "lr=LinearRegression()\n",
    "from sklearn.metrics import r2_score"
   ]
  },
  {
   "cell_type": "code",
   "execution_count": 37,
   "metadata": {},
   "outputs": [],
   "source": [
    "from sklearn.model_selection import train_test_split"
   ]
  },
  {
   "cell_type": "code",
   "execution_count": 38,
   "metadata": {},
   "outputs": [],
   "source": [
    "from sklearn.linear_model import Lasso\n",
    "from sklearn.model_selection import GridSearchCV\n",
    "from sklearn.model_selection import cross_val_score"
   ]
  },
  {
   "cell_type": "code",
   "execution_count": 39,
   "metadata": {},
   "outputs": [
    {
     "name": "stdout",
     "output_type": "stream",
     "text": [
      "At random state 0,the training accuracy is:-0.37985388485143623\n",
      "At random state 0,the training accuracy is:-0.41717830598053707\n",
      "\n",
      "\n",
      "At random state 1,the training accuracy is:-0.3777705989692637\n",
      "At random state 1,the training accuracy is:-0.4283879993307399\n",
      "\n",
      "\n",
      "At random state 2,the training accuracy is:-0.38760318270983785\n",
      "At random state 2,the training accuracy is:-0.38604658426382144\n",
      "\n",
      "\n",
      "At random state 3,the training accuracy is:-0.4006469546864657\n",
      "At random state 3,the training accuracy is:-0.32649664099043796\n",
      "\n",
      "\n",
      "At random state 4,the training accuracy is:-0.3974141582095523\n",
      "At random state 4,the training accuracy is:-0.3472159411579877\n",
      "\n",
      "\n",
      "At random state 5,the training accuracy is:-0.3928638726940208\n",
      "At random state 5,the training accuracy is:-0.3731478628102953\n",
      "\n",
      "\n",
      "At random state 6,the training accuracy is:-0.37966658397200037\n",
      "At random state 6,the training accuracy is:-0.40130318311242974\n",
      "\n",
      "\n",
      "At random state 7,the training accuracy is:-0.3829165822888464\n",
      "At random state 7,the training accuracy is:-0.41017849210903357\n",
      "\n",
      "\n",
      "At random state 8,the training accuracy is:-0.40200430527952136\n",
      "At random state 8,the training accuracy is:-0.3318695841414283\n",
      "\n",
      "\n",
      "At random state 9,the training accuracy is:-0.39789323220701334\n",
      "At random state 9,the training accuracy is:-0.344408655138824\n",
      "\n",
      "\n",
      "At random state 10,the training accuracy is:-0.401196320988509\n",
      "At random state 10,the training accuracy is:-0.3344066884793414\n",
      "\n",
      "\n",
      "At random state 11,the training accuracy is:-0.40364061431598663\n",
      "At random state 11,the training accuracy is:-0.3211892407729723\n",
      "\n",
      "\n",
      "At random state 12,the training accuracy is:-0.3975687585963438\n",
      "At random state 12,the training accuracy is:-0.34154348451673344\n",
      "\n",
      "\n",
      "At random state 13,the training accuracy is:-0.3912726608601349\n",
      "At random state 13,the training accuracy is:-0.37397406750595896\n",
      "\n",
      "\n",
      "At random state 14,the training accuracy is:-0.3872971780120805\n",
      "At random state 14,the training accuracy is:-0.3924419876369295\n",
      "\n",
      "\n",
      "At random state 15,the training accuracy is:-0.39860203835401353\n",
      "At random state 15,the training accuracy is:-0.3348933897898524\n",
      "\n",
      "\n",
      "At random state 16,the training accuracy is:-0.38408231006543236\n",
      "At random state 16,the training accuracy is:-0.3984570409245429\n",
      "\n",
      "\n",
      "At random state 17,the training accuracy is:-0.3852055158336697\n",
      "At random state 17,the training accuracy is:-0.3994479984685617\n",
      "\n",
      "\n",
      "At random state 18,the training accuracy is:-0.38060594460768304\n",
      "At random state 18,the training accuracy is:-0.40065665984988486\n",
      "\n",
      "\n",
      "At random state 19,the training accuracy is:-0.3968585853642378\n",
      "At random state 19,the training accuracy is:-0.3526733252355666\n",
      "\n",
      "\n",
      "At random state 20,the training accuracy is:-0.40238088982856635\n",
      "At random state 20,the training accuracy is:-0.3238396131966721\n",
      "\n",
      "\n",
      "At random state 21,the training accuracy is:-0.388516088619023\n",
      "At random state 21,the training accuracy is:-0.3883529438861819\n",
      "\n",
      "\n",
      "At random state 22,the training accuracy is:-0.39690987887494045\n",
      "At random state 22,the training accuracy is:-0.34633235127823836\n",
      "\n",
      "\n",
      "At random state 23,the training accuracy is:-0.376833420065267\n",
      "At random state 23,the training accuracy is:-0.4298902326279739\n",
      "\n",
      "\n",
      "At random state 24,the training accuracy is:-0.3803526751330728\n",
      "At random state 24,the training accuracy is:-0.4276073352290557\n",
      "\n",
      "\n",
      "At random state 25,the training accuracy is:-0.39051728579269096\n",
      "At random state 25,the training accuracy is:-0.3619746484025279\n",
      "\n",
      "\n",
      "At random state 26,the training accuracy is:-0.39092577546264595\n",
      "At random state 26,the training accuracy is:-0.37476068228147685\n",
      "\n",
      "\n",
      "At random state 27,the training accuracy is:-0.38673394808052086\n",
      "At random state 27,the training accuracy is:-0.39456526215193\n",
      "\n",
      "\n",
      "At random state 28,the training accuracy is:-0.39174045779388755\n",
      "At random state 28,the training accuracy is:-0.37436942527669004\n",
      "\n",
      "\n",
      "At random state 29,the training accuracy is:-0.39632312953173965\n",
      "At random state 29,the training accuracy is:-0.35517856684520566\n",
      "\n",
      "\n",
      "At random state 30,the training accuracy is:-0.3934192695334606\n",
      "At random state 30,the training accuracy is:-0.3698403478139518\n",
      "\n",
      "\n",
      "At random state 31,the training accuracy is:-0.3877142584629366\n",
      "At random state 31,the training accuracy is:-0.3879428998715574\n",
      "\n",
      "\n",
      "At random state 32,the training accuracy is:-0.3826564635119418\n",
      "At random state 32,the training accuracy is:-0.40420583375296126\n",
      "\n",
      "\n",
      "At random state 33,the training accuracy is:-0.3775560625169819\n",
      "At random state 33,the training accuracy is:-0.43176615124271245\n",
      "\n",
      "\n",
      "At random state 34,the training accuracy is:-0.397379989650824\n",
      "At random state 34,the training accuracy is:-0.3411517924345666\n",
      "\n",
      "\n",
      "At random state 35,the training accuracy is:-0.3977408408836015\n",
      "At random state 35,the training accuracy is:-0.34411206409911077\n",
      "\n",
      "\n",
      "At random state 36,the training accuracy is:-0.38954110897108396\n",
      "At random state 36,the training accuracy is:-0.36906590211971313\n",
      "\n",
      "\n",
      "At random state 37,the training accuracy is:-0.39754938477291113\n",
      "At random state 37,the training accuracy is:-0.3458614727392798\n",
      "\n",
      "\n",
      "At random state 38,the training accuracy is:-0.3874441970132959\n",
      "At random state 38,the training accuracy is:-0.38347370565220773\n",
      "\n",
      "\n",
      "At random state 39,the training accuracy is:-0.38193687475160576\n",
      "At random state 39,the training accuracy is:-0.41313848224952276\n",
      "\n",
      "\n",
      "At random state 40,the training accuracy is:-0.38157038747964434\n",
      "At random state 40,the training accuracy is:-0.4129147444134821\n",
      "\n",
      "\n",
      "At random state 41,the training accuracy is:-0.40169762899853256\n",
      "At random state 41,the training accuracy is:-0.3190057478015158\n",
      "\n",
      "\n",
      "At random state 42,the training accuracy is:-0.3780493358425804\n",
      "At random state 42,the training accuracy is:-0.42695719065049864\n",
      "\n",
      "\n",
      "At random state 43,the training accuracy is:-0.38681211387173575\n",
      "At random state 43,the training accuracy is:-0.3857862946753936\n",
      "\n",
      "\n",
      "At random state 44,the training accuracy is:-0.4078213214887313\n",
      "At random state 44,the training accuracy is:-0.2919792588835842\n",
      "\n",
      "\n",
      "At random state 45,the training accuracy is:-0.38220138947242766\n",
      "At random state 45,the training accuracy is:-0.4133340329130658\n",
      "\n",
      "\n",
      "At random state 46,the training accuracy is:-0.3814283540667396\n",
      "At random state 46,the training accuracy is:-0.41421082134578435\n",
      "\n",
      "\n",
      "At random state 47,the training accuracy is:-0.3893600114232816\n",
      "At random state 47,the training accuracy is:-0.38314967983221593\n",
      "\n",
      "\n",
      "At random state 48,the training accuracy is:-0.3995509988147409\n",
      "At random state 48,the training accuracy is:-0.3456982184835641\n",
      "\n",
      "\n",
      "At random state 49,the training accuracy is:-0.39172265377032744\n",
      "At random state 49,the training accuracy is:-0.3733039367834451\n",
      "\n",
      "\n",
      "At random state 50,the training accuracy is:-0.3830066050283243\n",
      "At random state 50,the training accuracy is:-0.3898799025086378\n",
      "\n",
      "\n",
      "At random state 51,the training accuracy is:-0.3870731687009683\n",
      "At random state 51,the training accuracy is:-0.3885174904682933\n",
      "\n",
      "\n",
      "At random state 52,the training accuracy is:-0.39050480703605506\n",
      "At random state 52,the training accuracy is:-0.3813469638585114\n",
      "\n",
      "\n",
      "At random state 53,the training accuracy is:-0.3999671384972099\n",
      "At random state 53,the training accuracy is:-0.3272524296079593\n",
      "\n",
      "\n",
      "At random state 54,the training accuracy is:-0.37934145595741076\n",
      "At random state 54,the training accuracy is:-0.4142085123903587\n",
      "\n",
      "\n",
      "At random state 55,the training accuracy is:-0.3922487984545032\n",
      "At random state 55,the training accuracy is:-0.3707959706041102\n",
      "\n",
      "\n",
      "At random state 56,the training accuracy is:-0.4021079848526915\n",
      "At random state 56,the training accuracy is:-0.3226951889226558\n",
      "\n",
      "\n",
      "At random state 57,the training accuracy is:-0.38160070938121604\n",
      "At random state 57,the training accuracy is:-0.4140082503753656\n",
      "\n",
      "\n",
      "At random state 58,the training accuracy is:-0.3750632007191885\n",
      "At random state 58,the training accuracy is:-0.43971650014017116\n",
      "\n",
      "\n",
      "At random state 59,the training accuracy is:-0.4230130709788944\n",
      "At random state 59,the training accuracy is:-0.24282153138315876\n",
      "\n",
      "\n",
      "At random state 60,the training accuracy is:-0.380127311940352\n",
      "At random state 60,the training accuracy is:-0.41707183184175023\n",
      "\n",
      "\n",
      "At random state 61,the training accuracy is:-0.40227019404049214\n",
      "At random state 61,the training accuracy is:-0.31366157040712905\n",
      "\n",
      "\n",
      "At random state 62,the training accuracy is:-0.4102341496189099\n",
      "At random state 62,the training accuracy is:-0.2790816837870991\n",
      "\n",
      "\n",
      "At random state 63,the training accuracy is:-0.38915437260937313\n",
      "At random state 63,the training accuracy is:-0.37885808993895886\n",
      "\n",
      "\n",
      "At random state 64,the training accuracy is:-0.3952896763064291\n",
      "At random state 64,the training accuracy is:-0.3617063470239934\n",
      "\n",
      "\n",
      "At random state 65,the training accuracy is:-0.4018132244371224\n",
      "At random state 65,the training accuracy is:-0.3247929496194908\n",
      "\n",
      "\n",
      "At random state 66,the training accuracy is:-0.38667942038157743\n",
      "At random state 66,the training accuracy is:-0.3870322683529449\n",
      "\n",
      "\n",
      "At random state 67,the training accuracy is:-0.3806442279014658\n",
      "At random state 67,the training accuracy is:-0.4154378691231889\n",
      "\n",
      "\n",
      "At random state 68,the training accuracy is:-0.3948193938101112\n",
      "At random state 68,the training accuracy is:-0.35891099551728434\n",
      "\n",
      "\n",
      "At random state 69,the training accuracy is:-0.4039419202132276\n",
      "At random state 69,the training accuracy is:-0.31422135799840833\n",
      "\n",
      "\n",
      "At random state 70,the training accuracy is:-0.4083254992487484\n",
      "At random state 70,the training accuracy is:-0.29883806057346696\n",
      "\n",
      "\n",
      "At random state 71,the training accuracy is:-0.3757904003837983\n",
      "At random state 71,the training accuracy is:-0.44428628046703145\n",
      "\n",
      "\n",
      "At random state 72,the training accuracy is:-0.39769662579162934\n",
      "At random state 72,the training accuracy is:-0.35377070388286347\n",
      "\n",
      "\n",
      "At random state 73,the training accuracy is:-0.38671283773224796\n",
      "At random state 73,the training accuracy is:-0.39297240530814603\n",
      "\n",
      "\n",
      "At random state 74,the training accuracy is:-0.40167493172272684\n",
      "At random state 74,the training accuracy is:-0.33974033790174374\n",
      "\n",
      "\n",
      "At random state 75,the training accuracy is:-0.37345288372789387\n",
      "At random state 75,the training accuracy is:-0.4364821233502818\n",
      "\n",
      "\n",
      "At random state 76,the training accuracy is:-0.3853559927451774\n",
      "At random state 76,the training accuracy is:-0.39685994690210125\n",
      "\n",
      "\n",
      "At random state 77,the training accuracy is:-0.41145357619500866\n",
      "At random state 77,the training accuracy is:-0.2909231724293321\n",
      "\n",
      "\n",
      "At random state 78,the training accuracy is:-0.3851650538940796\n",
      "At random state 78,the training accuracy is:-0.3998340483132721\n",
      "\n",
      "\n",
      "At random state 79,the training accuracy is:-0.3805917823452777\n",
      "At random state 79,the training accuracy is:-0.416298962763463\n",
      "\n",
      "\n",
      "At random state 80,the training accuracy is:-0.41023382899392613\n",
      "At random state 80,the training accuracy is:-0.2738267938937722\n",
      "\n",
      "\n",
      "At random state 81,the training accuracy is:-0.3906481120879387\n",
      "At random state 81,the training accuracy is:-0.36234660761759363\n",
      "\n",
      "\n",
      "At random state 82,the training accuracy is:-0.38617126666590607\n",
      "At random state 82,the training accuracy is:-0.3984116110815312\n",
      "\n",
      "\n",
      "At random state 83,the training accuracy is:-0.3835087272460894\n",
      "At random state 83,the training accuracy is:-0.40467923589979227\n",
      "\n",
      "\n",
      "At random state 84,the training accuracy is:-0.39699061039554295\n",
      "At random state 84,the training accuracy is:-0.3475523583385386\n",
      "\n",
      "\n",
      "At random state 85,the training accuracy is:-0.3877459180234938\n",
      "At random state 85,the training accuracy is:-0.3812846583646514\n",
      "\n",
      "\n",
      "At random state 86,the training accuracy is:-0.38954616773146067\n",
      "At random state 86,the training accuracy is:-0.37853396303337417\n",
      "\n",
      "\n",
      "At random state 87,the training accuracy is:-0.38579489044964277\n",
      "At random state 87,the training accuracy is:-0.39788598014493526\n",
      "\n",
      "\n",
      "At random state 88,the training accuracy is:-0.39526269311192075\n",
      "At random state 88,the training accuracy is:-0.3519896316125686\n",
      "\n",
      "\n",
      "At random state 89,the training accuracy is:-0.3741530152661442\n",
      "At random state 89,the training accuracy is:-0.43909821408801986\n",
      "\n",
      "\n",
      "At random state 90,the training accuracy is:-0.4017941884603329\n",
      "At random state 90,the training accuracy is:-0.322998546770773\n",
      "\n",
      "\n",
      "At random state 91,the training accuracy is:-0.40007025985365685\n",
      "At random state 91,the training accuracy is:-0.3442809192896761\n",
      "\n",
      "\n",
      "At random state 92,the training accuracy is:-0.40565952933291205\n",
      "At random state 92,the training accuracy is:-0.305457692786846\n",
      "\n",
      "\n",
      "At random state 93,the training accuracy is:-0.3828166404004494\n",
      "At random state 93,the training accuracy is:-0.4070245529130143\n",
      "\n",
      "\n",
      "At random state 94,the training accuracy is:-0.3805339020248871\n",
      "At random state 94,the training accuracy is:-0.4136188116702709\n",
      "\n",
      "\n",
      "At random state 95,the training accuracy is:-0.3733993373283553\n",
      "At random state 95,the training accuracy is:-0.4402942856738238\n",
      "\n",
      "\n",
      "At random state 96,the training accuracy is:-0.3710327274784042\n",
      "At random state 96,the training accuracy is:-0.44805234395702864\n",
      "\n",
      "\n",
      "At random state 97,the training accuracy is:-0.39304237489560623\n",
      "At random state 97,the training accuracy is:-0.37057214880845646\n",
      "\n",
      "\n",
      "At random state 98,the training accuracy is:-0.393481830551631\n",
      "At random state 98,the training accuracy is:-0.36570811981236706\n",
      "\n",
      "\n",
      "At random state 99,the training accuracy is:-0.3793703853876953\n",
      "At random state 99,the training accuracy is:-0.4186609561332175\n",
      "\n",
      "\n"
     ]
    }
   ],
   "source": [
    "for i in range (0,100):\n",
    "    x_train,x_test,y_train,y_test=train_test_split(x,y,test_size=0.20,random_state=i)\n",
    "    lr.fit(x_train,y_train)\n",
    "    pred_train=lr.predict(x_train)\n",
    "    pred_test=lr.predict(x_test)\n",
    "    print(f\"At random state {i},the training accuracy is:-{r2_score(y_train,pred_train)}\")\n",
    "    print(f\"At random state {i},the training accuracy is:-{r2_score(y_test,pred_test)}\")\n",
    "    print(\"\\n\")"
   ]
  },
  {
   "cell_type": "code",
   "execution_count": null,
   "metadata": {},
   "outputs": [],
   "source": []
  },
  {
   "cell_type": "code",
   "execution_count": 40,
   "metadata": {},
   "outputs": [
    {
     "name": "stdout",
     "output_type": "stream",
     "text": [
      "{'alpha': 0.0001, 'random_state': 0}\n"
     ]
    }
   ],
   "source": [
    "parameters={'alpha':[.0001,.001,.01,.1,1,10],'random_state':list(range(0,10))}\n",
    "ls=Lasso()\n",
    "GSC=GridSearchCV(ls,parameters)\n",
    "GSC.fit(x_train,y_train)\n",
    "print(GSC.best_params_)"
   ]
  },
  {
   "cell_type": "code",
   "execution_count": null,
   "metadata": {},
   "outputs": [],
   "source": []
  },
  {
   "cell_type": "code",
   "execution_count": 41,
   "metadata": {},
   "outputs": [],
   "source": [
    "ls=Lasso(alpha=0.0001,random_state=0)\n",
    "ls.fit(x_train,y_train)\n",
    "ls.score(x_train,y_train)\n",
    "pred_ls=ls.predict(x_test)\n",
    "lss=r2_score(y_test,pred_ls)"
   ]
  },
  {
   "cell_type": "code",
   "execution_count": 42,
   "metadata": {},
   "outputs": [
    {
     "data": {
      "text/plain": [
       "0.4182963908563023"
      ]
     },
     "execution_count": 42,
     "metadata": {},
     "output_type": "execute_result"
    }
   ],
   "source": [
    "lss"
   ]
  },
  {
   "cell_type": "code",
   "execution_count": 43,
   "metadata": {},
   "outputs": [
    {
     "data": {
      "text/plain": [
       "0.16250102461647184"
      ]
     },
     "execution_count": 43,
     "metadata": {},
     "output_type": "execute_result"
    }
   ],
   "source": [
    "cv_score=cross_val_score(ls,x,y,cv=5)\n",
    "cv_mean=cv_score.mean()\n",
    "cv_mean"
   ]
  },
  {
   "cell_type": "code",
   "execution_count": 44,
   "metadata": {},
   "outputs": [],
   "source": [
    "from sklearn.ensemble import RandomForestRegressor"
   ]
  },
  {
   "cell_type": "code",
   "execution_count": 45,
   "metadata": {},
   "outputs": [
    {
     "name": "stdout",
     "output_type": "stream",
     "text": [
      "{'criterion': 'mse', 'max_features': 'log2'}\n"
     ]
    }
   ],
   "source": [
    "parameters={'criterion':[\"mse\",\"mae\"],'max_features':[\"auto\",\"sqrt\",\"log2\"]}\n",
    "rf=RandomForestRegressor()\n",
    "GSC=GridSearchCV(rf,parameters)\n",
    "GSC.fit(x_train,y_train)\n",
    "print(GSC.best_params_)"
   ]
  },
  {
   "cell_type": "code",
   "execution_count": 46,
   "metadata": {},
   "outputs": [],
   "source": [
    "rf=RandomForestRegressor(criterion=\"mse\",max_features=\"log2\")\n",
    "rf.fit(x_train,y_train)\n",
    "rf.score(x_train,y_train)\n",
    "pred_decision=rf.predict(x_test)\n",
    "rfs=r2_score(y_test,pred_decision)"
   ]
  },
  {
   "cell_type": "code",
   "execution_count": 47,
   "metadata": {},
   "outputs": [
    {
     "data": {
      "text/plain": [
       "0.819901600597049"
      ]
     },
     "execution_count": 47,
     "metadata": {},
     "output_type": "execute_result"
    }
   ],
   "source": [
    "rfs"
   ]
  },
  {
   "cell_type": "code",
   "execution_count": 48,
   "metadata": {},
   "outputs": [
    {
     "data": {
      "text/plain": [
       "0.2641460975168057"
      ]
     },
     "execution_count": 48,
     "metadata": {},
     "output_type": "execute_result"
    }
   ],
   "source": [
    "cv_score=cross_val_score(rf,x,y,cv=5)\n",
    "cv_mean=cv_score.mean()\n",
    "cv_mean"
   ]
  }
 ],
 "metadata": {
  "kernelspec": {
   "display_name": "Python 3",
   "language": "python",
   "name": "python3"
  },
  "language_info": {
   "codemirror_mode": {
    "name": "ipython",
    "version": 3
   },
   "file_extension": ".py",
   "mimetype": "text/x-python",
   "name": "python",
   "nbconvert_exporter": "python",
   "pygments_lexer": "ipython3",
   "version": "3.8.5"
  }
 },
 "nbformat": 4,
 "nbformat_minor": 4
}
